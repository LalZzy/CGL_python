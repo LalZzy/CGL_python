{
 "nbformat": 4,
 "nbformat_minor": 2,
 "metadata": {
  "language_info": {
   "name": "python",
   "codemirror_mode": {
    "name": "ipython",
    "version": 3
   },
   "version": "3.7.2-final"
  },
  "orig_nbformat": 2,
  "file_extension": ".py",
  "mimetype": "text/x-python",
  "name": "python",
  "npconvert_exporter": "python",
  "pygments_lexer": "ipython3",
  "version": 3,
  "kernelspec": {
   "name": "python3",
   "display_name": "Python 3"
  }
 },
 "cells": [
  {
   "cell_type": "code",
   "execution_count": 1,
   "metadata": {},
   "outputs": [],
   "source": [
    "from CGL_python.simulation.data_generation import generate_one_simulation_data\n",
    "import numpy as np"
   ]
  },
  {
   "cell_type": "code",
   "execution_count": 6,
   "metadata": {},
   "outputs": [
    {
     "name": "stdout",
     "output_type": "stream",
     "text": "in word frequency matrix, 49.78% is 0, 25.38% is 1\naccording to course_link_num=40, above F\"s 95.40229885057472 quantile is set to be 1, othres zero\nfinal simulation data:\nconcept_num=1000 course_num=30, link_num=0\n"
    }
   ],
   "source": [
    "data = generate_one_simulation_data(word_num=1000, course_num=30, course_link_num=40, p=0.01, lab=0.1, seed=0)"
   ]
  },
  {
   "cell_type": "code",
   "execution_count": 13,
   "metadata": {},
   "outputs": [
    {
     "name": "stdout",
     "output_type": "stream",
     "text": "Iteration: 1, eta: 1.000000 B's 'f-norm' decreases: inf, old_loss: inf, current_loss: 970.000000\nStop, iteration: 2, eta: 1.000000 B's 'f-norm' decreases: 0.000000, old_loss: 970.000000, current_loss: 970.000000\n"
    }
   ],
   "source": [
    "from CGL_python.model import cgl_rank\n",
    "from CGL_python.preprocessing import row_normlize, generate_triple, generate_trn\n",
    "X = data['X']\n",
    "links = data['F']\n",
    "X = row_normlize(X)\n",
    "trn = generate_trn(links, X.shape[0])\n",
    "tripple = generate_triple(trn)\n",
    "lamb=100\n",
    "A,F = cgl_rank(X,tripple,lamb=lamb,eta=10.0,tolerence=0.00001,silence=False)"
   ]
  },
  {
   "cell_type": "code",
   "execution_count": 8,
   "metadata": {},
   "outputs": [
    {
     "data": {
      "text/plain": "array([[0.00088106, 0.        , 0.        , ..., 0.00088106, 0.        ,\n        0.        ],\n       [0.        , 0.00537634, 0.        , ..., 0.00716846, 0.00089606,\n        0.00089606],\n       [0.        , 0.        , 0.00083893, ..., 0.        , 0.        ,\n        0.0033557 ],\n       ...,\n       [0.        , 0.        , 0.00090171, ..., 0.00090171, 0.00090171,\n        0.00541028],\n       [0.        , 0.00357782, 0.00089445, ..., 0.00089445, 0.00178891,\n        0.00089445],\n       [0.        , 0.        , 0.        , ..., 0.00076278, 0.00762777,\n        0.00076278]])"
     },
     "execution_count": 8,
     "metadata": {},
     "output_type": "execute_result"
    }
   ],
   "source": [
    "X"
   ]
  },
  {
   "cell_type": "code",
   "execution_count": 9,
   "metadata": {},
   "outputs": [
    {
     "data": {
      "text/plain": "1.0"
     },
     "execution_count": 9,
     "metadata": {},
     "output_type": "execute_result"
    }
   ],
   "source": [
    "from CGL_python.evaluation import evaluation\n",
    "evaluate = evaluation(F,tripple)\n",
    "evaluate.auc(trn)\n",
    "evaluate.auc_liu()"
   ]
  },
  {
   "cell_type": "code",
   "execution_count": 10,
   "metadata": {},
   "outputs": [
    {
     "data": {
      "text/plain": "dtype('int64')"
     },
     "execution_count": 10,
     "metadata": {},
     "output_type": "execute_result"
    }
   ],
   "source": [
    "data['X'].dtype"
   ]
  },
  {
   "cell_type": "code",
   "execution_count": 5,
   "metadata": {},
   "outputs": [
    {
     "data": {
      "text/plain": "2334"
     },
     "execution_count": 5,
     "metadata": {},
     "output_type": "execute_result"
    }
   ],
   "source": [
    "tripple.size"
   ]
  },
  {
   "cell_type": "code",
   "execution_count": null,
   "metadata": {},
   "outputs": [],
   "source": []
  }
 ]
}