{
 "cells": [
  {
   "cell_type": "code",
   "execution_count": 1,
   "metadata": {},
   "outputs": [],
   "source": [
    "from __future__ import print_function\n",
    "import numpy as np"
   ]
  },
  {
   "cell_type": "code",
   "execution_count": 2,
   "metadata": {},
   "outputs": [],
   "source": [
    "whole_file_A = 'result/ruc_A_whole_directnoupdate_A1.txt'\n",
    "incre_file_A = 'result/ruc_A_incre_directnoupdate_A1.txt'\n",
    "incre_file_A1 = 'result/ruc_A_incre.txt'\n",
    "whole_A = np.loadtxt(whole_file_A,delimiter=' ')\n",
    "incre_A = np.loadtxt(incre_file_A,delimiter=' ')\n",
    "incre_A1 = np.loadtxt(incre_file_A1,delimiter=' ')\n",
    "whole_file_F = 'result/ruc_F_whole_directnoupdate_A1.txt'\n",
    "incre_file_F = 'result/ruc_F_incre_directnoupdate_A1.txt'\n",
    "incre_file_F1 = 'result/ruc_F_incre_direct_update_A1.txt'\n",
    "whole_F = np.loadtxt(whole_file_F,delimiter=' ')\n",
    "incre_F = np.loadtxt(incre_file_F,delimiter=' ')\n",
    "incre_F1 = np.loadtxt(incre_file_F1,delimiter=' ')"
   ]
  },
  {
   "cell_type": "code",
   "execution_count": 3,
   "metadata": {},
   "outputs": [
    {
     "name": "stdout",
     "output_type": "stream",
     "text": [
      "[-7.78682535e-05 -1.02252464e-04 -3.91044507e-04 ... -2.69839732e-03\n",
      " -5.74306213e-04 -1.39474366e-03]\n"
     ]
    },
    {
     "data": {
      "text/plain": [
       "array([-0.20638364, -0.17075008, -0.12720904, ...,  0.00443772,\n",
       "        0.00634931,  0.00954736])"
      ]
     },
     "execution_count": 3,
     "metadata": {},
     "output_type": "execute_result"
    }
   ],
   "source": [
    "a = whole_A[:,-5]\n",
    "print(a)\n",
    "np.sort(a)"
   ]
  },
  {
   "cell_type": "markdown",
   "metadata": {},
   "source": [
    "首先统计全量更新的a与增量更新的a的描述统计量。"
   ]
  },
  {
   "cell_type": "code",
   "execution_count": 4,
   "metadata": {},
   "outputs": [
    {
     "data": {
      "text/plain": [
       "DescribeResult(nobs=4687225, minmax=(-34.510647298467426, 39.47386289423539), mean=-0.002052269075720299, variance=0.08599963118091335, skewness=3.3167226787118333, kurtosis=1642.6925821202408)"
      ]
     },
     "execution_count": 4,
     "metadata": {},
     "output_type": "execute_result"
    }
   ],
   "source": [
    "from scipy import stats\n",
    "stats.describe(whole_A,axis = None)"
   ]
  },
  {
   "cell_type": "code",
   "execution_count": 5,
   "metadata": {},
   "outputs": [
    {
     "data": {
      "text/plain": [
       "DescribeResult(nobs=4687225, minmax=(-29.894862100208044, 100.08839806459434), mean=0.001720850358411844, variance=0.12156884701971706, skewness=35.38312554303596, kurtosis=6537.963136864735)"
      ]
     },
     "execution_count": 5,
     "metadata": {},
     "output_type": "execute_result"
    }
   ],
   "source": [
    "stats.describe(incre_A, axis=None)"
   ]
  },
  {
   "cell_type": "code",
   "execution_count": 6,
   "metadata": {},
   "outputs": [
    {
     "data": {
      "text/plain": [
       "DescribeResult(nobs=38970, minmax=(-5.0522794123038475, 9.854282784319514), mean=0.013840862280871925, variance=0.048268650543486086, skewness=11.362430154201778, kurtosis=393.7413746001382)"
      ]
     },
     "execution_count": 6,
     "metadata": {},
     "output_type": "execute_result"
    }
   ],
   "source": [
    "incre_concept_num=18\n",
    "stats.describe(whole_A[:,-incre_concept_num:], axis=None)"
   ]
  },
  {
   "cell_type": "code",
   "execution_count": 7,
   "metadata": {},
   "outputs": [
    {
     "data": {
      "text/plain": [
       "DescribeResult(nobs=38970, minmax=(-7.330158992246485, 100.08839806459434), mean=0.350511170038099, variance=4.345255737328267, skewness=18.180194769718668, kurtosis=524.9576973596401)"
      ]
     },
     "execution_count": 7,
     "metadata": {},
     "output_type": "execute_result"
    }
   ],
   "source": [
    "incre_course_num=18\n",
    "stats.describe(incre_A[:,-incre_course_num:], axis=None)"
   ]
  },
  {
   "cell_type": "code",
   "execution_count": 8,
   "metadata": {},
   "outputs": [
    {
     "data": {
      "text/plain": [
       "82.5654497809946"
      ]
     },
     "execution_count": 8,
     "metadata": {},
     "output_type": "execute_result"
    }
   ],
   "source": [
    "np.sqrt(np.sum(np.square(incre_A[:,-1]-whole_A[:,-1])))"
   ]
  },
  {
   "cell_type": "code",
   "execution_count": 9,
   "metadata": {},
   "outputs": [],
   "source": [
    "from preprocessing import read_file,row_normlize\n",
    "data_file = 'data/all_ruc_word_info_new.csv'\n",
    "link_file = 'data/all_ruc_new_link.csv'\n",
    "concept_file = 'data/ruc_all_concepts_new.csv'\n",
    "file_type = 'sparse_row_col_val'\n",
    "X, links, concept = read_file(data_file, link_file, concept_file, file_type)\n",
    "X = X.todense()\n",
    "X = row_normlize(X)\n",
    "# incre_F1 = np.matmul(np.matmul(X[:,:-14],incre_A1),X[:,:-14].transpose())"
   ]
  },
  {
   "cell_type": "code",
   "execution_count": 10,
   "metadata": {},
   "outputs": [
    {
     "data": {
      "text/plain": [
       "(2151, 153)"
      ]
     },
     "execution_count": 10,
     "metadata": {},
     "output_type": "execute_result"
    }
   ],
   "source": [
    "X[:,:-14].transpose().shape"
   ]
  },
  {
   "cell_type": "code",
   "execution_count": 11,
   "metadata": {},
   "outputs": [],
   "source": [
    "n_course = X.shape[0]\n",
    "undirect = False\n",
    "from preprocessing import generate_triple, generate_trn\n",
    "trn = generate_trn(links, n_course, undirect=undirect)\n",
    "tripple = generate_triple(trn)"
   ]
  },
  {
   "cell_type": "code",
   "execution_count": 14,
   "metadata": {},
   "outputs": [
    {
     "name": "stdout",
     "output_type": "stream",
     "text": [
      "pre concept of principal component pursuit:\n",
      "left is whole-version, right is incremental-version\n",
      "\n"
     ]
    },
    {
     "ename": "NameError",
     "evalue": "name 's1' is not defined",
     "output_type": "error",
     "traceback": [
      "\u001b[0;31m---------------------------------------------------------------------------\u001b[0m",
      "\u001b[0;31mNameError\u001b[0m                                 Traceback (most recent call last)",
      "\u001b[0;32m<ipython-input-14-0a431a48aa0a>\u001b[0m in \u001b[0;36m<module>\u001b[0;34m\u001b[0m\n\u001b[1;32m      1\u001b[0m \u001b[0mprint\u001b[0m\u001b[0;34m(\u001b[0m\u001b[0;34m'pre concept of {}:'\u001b[0m\u001b[0;34m.\u001b[0m\u001b[0mformat\u001b[0m\u001b[0;34m(\u001b[0m\u001b[0mconcept\u001b[0m\u001b[0;34m[\u001b[0m\u001b[0;34m-\u001b[0m\u001b[0;36m1\u001b[0m\u001b[0;34m]\u001b[0m\u001b[0;34m)\u001b[0m\u001b[0;34m)\u001b[0m\u001b[0;34m\u001b[0m\u001b[0;34m\u001b[0m\u001b[0m\n\u001b[1;32m      2\u001b[0m \u001b[0mprint\u001b[0m\u001b[0;34m(\u001b[0m\u001b[0;34m'left is whole-version, right is incremental-version\\n'\u001b[0m\u001b[0;34m)\u001b[0m\u001b[0;34m\u001b[0m\u001b[0;34m\u001b[0m\u001b[0m\n\u001b[0;32m----> 3\u001b[0;31m \u001b[0;32mfor\u001b[0m \u001b[0mi\u001b[0m\u001b[0;34m,\u001b[0m\u001b[0mj\u001b[0m \u001b[0;32min\u001b[0m \u001b[0mzip\u001b[0m\u001b[0;34m(\u001b[0m\u001b[0ms1\u001b[0m\u001b[0;34m,\u001b[0m\u001b[0ms2\u001b[0m\u001b[0;34m)\u001b[0m\u001b[0;34m:\u001b[0m\u001b[0;34m\u001b[0m\u001b[0;34m\u001b[0m\u001b[0m\n\u001b[0m\u001b[1;32m      4\u001b[0m     \u001b[0mprint\u001b[0m\u001b[0;34m(\u001b[0m\u001b[0;34m\"{}:{:.4f}\\t\\t{}:{:.4f}\"\u001b[0m\u001b[0;34m.\u001b[0m\u001b[0mformat\u001b[0m\u001b[0;34m(\u001b[0m\u001b[0mconcept\u001b[0m\u001b[0;34m[\u001b[0m\u001b[0mi\u001b[0m\u001b[0;34m]\u001b[0m\u001b[0;34m,\u001b[0m\u001b[0mwhole_A\u001b[0m\u001b[0;34m[\u001b[0m\u001b[0;34m:\u001b[0m\u001b[0;34m,\u001b[0m\u001b[0;34m-\u001b[0m\u001b[0;36m1\u001b[0m\u001b[0;34m]\u001b[0m\u001b[0;34m[\u001b[0m\u001b[0mi\u001b[0m\u001b[0;34m]\u001b[0m\u001b[0;34m,\u001b[0m\u001b[0mconcept\u001b[0m\u001b[0;34m[\u001b[0m\u001b[0mj\u001b[0m\u001b[0;34m]\u001b[0m\u001b[0;34m,\u001b[0m\u001b[0mincre_A\u001b[0m\u001b[0;34m[\u001b[0m\u001b[0;34m:\u001b[0m\u001b[0;34m,\u001b[0m\u001b[0;34m-\u001b[0m\u001b[0;36m1\u001b[0m\u001b[0;34m]\u001b[0m\u001b[0;34m[\u001b[0m\u001b[0mj\u001b[0m\u001b[0;34m]\u001b[0m\u001b[0;34m)\u001b[0m\u001b[0;34m)\u001b[0m\u001b[0;34m\u001b[0m\u001b[0;34m\u001b[0m\u001b[0m\n",
      "\u001b[0;31mNameError\u001b[0m: name 's1' is not defined"
     ]
    }
   ],
   "source": [
    "print('pre concept of {}:'.format(concept[-1]))\n",
    "print('left is whole-version, right is incremental-version\\n')\n",
    "for i,j in zip(s1,s2):\n",
    "    print(\"{}:{:.4f}\\t\\t{}:{:.4f}\".format(concept[i],whole_A[:,-1][i],concept[j],incre_A[:,-1][j]))"
   ]
  },
  {
   "cell_type": "code",
   "execution_count": 15,
   "metadata": {},
   "outputs": [
    {
     "name": "stdout",
     "output_type": "stream",
     "text": [
      "训练集auc(liu)为0.9050003922901901\n",
      "训练集auc为0.8359597047847397\n",
      "训练集auc(liu)为0.9003713680466564\n",
      "训练集auc为0.8496196717580692\n",
      "训练集auc(liu)为0.9965347699871852\n",
      "训练集auc为0.9470263864745159\n"
     ]
    }
   ],
   "source": [
    "from evaluation import *\n",
    "model_eval = evaluation(whole_F,tripple)\n",
    "print('训练集auc(liu)为{0}'.format(model_eval.auc_liu()))\n",
    "print('训练集auc为{0}'.format(model_eval.auc(trn)))\n",
    "from evaluation import *\n",
    "model_eval = evaluation(incre_F,tripple)\n",
    "print('训练集auc(liu)为{0}'.format(model_eval.auc_liu()))\n",
    "print('训练集auc为{0}'.format(model_eval.auc(trn)))\n",
    "from evaluation import *\n",
    "model_eval = evaluation(incre_F1,tripple)\n",
    "print('训练集auc(liu)为{0}'.format(model_eval.auc_liu()))\n",
    "print('训练集auc为{0}'.format(model_eval.auc(trn)))"
   ]
  },
  {
   "cell_type": "code",
   "execution_count": null,
   "metadata": {},
   "outputs": [],
   "source": [
    "x"
   ]
  },
  {
   "cell_type": "code",
   "execution_count": null,
   "metadata": {},
   "outputs": [],
   "source": [
    "a = np.loadtxt('result/ruc_A_cgl.txt',delimiter=' ')"
   ]
  },
  {
   "cell_type": "code",
   "execution_count": null,
   "metadata": {},
   "outputs": [],
   "source": [
    "a[1252]"
   ]
  },
  {
   "cell_type": "code",
   "execution_count": null,
   "metadata": {},
   "outputs": [],
   "source": [
    "print(\"{:.2f}\".format(3.1415926))"
   ]
  },
  {
   "cell_type": "code",
   "execution_count": 24,
   "metadata": {},
   "outputs": [],
   "source": [
    "def generate_course_pairs(F,percentile = 99.5):\n",
    "    threshold = np.percentile(F,percentile)\n",
    "    edge = np.argwhere(F>threshold)\n",
    "    edge = edge[edge[:,0] != edge[:,1]]\n",
    "    node = []\n",
    "    for i in range(len(edge)):\n",
    "        for j in range(2):\n",
    "            node.append(edge[i,j])\n",
    "    weight = np.round(F[edge[:,0],edge[:,1]],decimals = 2)\n",
    "    weight.shape = (weight.shape[0],1)\n",
    "    weight_edge = np.append(edge[:,[1,0]],weight,axis = 1)\n",
    "    weight_edge_list = [i.tolist() for i in weight_edge]\n",
    "    return(weight_edge_list)\n",
    "weight_edge_list = generate_course_pairs(incre_F, percentile=90)\n",
    "weight_edge_list = [i for i in weight_edge_list if i[0] in [151,152,153] or i[1] in [151,152,153]]\n",
    "name_edge_list = []\n",
    "chp_ids = []\n",
    "with open('data/ruc_book_chapter_ids.csv','r') as f:\n",
    "    for i in f:\n",
    "        chp_name = i.strip().split(',')[0]\n",
    "        chp_ids.append(chp_name)\n",
    "for i in weight_edge_list:\n",
    "    name_edge_list.append([chp_ids[int(i[0])],chp_ids[int(i[1])],round(i[2],3)])"
   ]
  },
  {
   "cell_type": "code",
   "execution_count": 25,
   "metadata": {},
   "outputs": [
    {
     "name": "stdout",
     "output_type": "stream",
     "text": [
      "86\n",
      "86\n",
      "[['12ConfidenceRegionLowRankRegre', '1StatisticalModels', 0.49], ['13PRCA', '1StatisticalModels', 0.54], ['12ConfidenceRegionLowRankRegre', '2StatisticalModels', 0.57], ['13PRCA', '2StatisticalModels', 0.58], ['12ConfidenceRegionLowRankRegre', '3StatisticalModels', 0.68], ['13PRCA', '3StatisticalModels', 0.66], ['13PRCA', '6StatisticalModels', 0.54], ['12ConfidenceRegionLowRankRegre', '8StatisticalModels', 0.55], ['13PRCA', '8StatisticalModels', 0.59], ['12ConfidenceRegionLowRankRegre', '9StatisticalModels', 0.56], ['13PRCA', '9StatisticalModels', 0.52], ['12ConfidenceRegionLowRankRegre', '1ConvexOptimizationbook', 0.52], ['13PRCA', '1ConvexOptimizationbook', 1.06], ['12ConfidenceRegionLowRankRegre', '2ConvexOptimizationbook', 0.49], ['13PRCA', '2ConvexOptimizationbook', 0.82], ['12ConfidenceRegionLowRankRegre', '3ConvexOptimizationbook', 0.53], ['13PRCA', '3ConvexOptimizationbook', 0.84], ['12ConfidenceRegionLowRankRegre', '4ConvexOptimizationbook', 0.74], ['13PRCA', '4ConvexOptimizationbook', 1.11], ['12ConfidenceRegionLowRankRegre', '5ConvexOptimizationbook', 0.78], ['13PRCA', '5ConvexOptimizationbook', 1.09], ['13PRCA', '6ConvexOptimizationbook', 0.53], ['12ConfidenceRegionLowRankRegre', '7ConvexOptimizationbook', 0.65], ['13PRCA', '7ConvexOptimizationbook', 0.8], ['12ConfidenceRegionLowRankRegre', '8ConvexOptimizationbook', 0.95], ['13PRCA', '8ConvexOptimizationbook', 1.14], ['12ConfidenceRegionLowRankRegre', '9ConvexOptimizationbook', 0.82], ['13PRCA', '9ConvexOptimizationbook', 0.99], ['12ConfidenceRegionLowRankRegre', '10ConvexOptimizationbook', 0.78], ['13PRCA', '10ConvexOptimizationbook', 1.12], ['12ConfidenceRegionLowRankRegre', '11ConvexOptimizationbook', 0.51], ['13PRCA', '11ConvexOptimizationbook', 0.8], ['12ConfidenceRegionLowRankRegre', '1RegressionModelingStrategies', 0.79], ['13PRCA', '1RegressionModelingStrategies', 0.75], ['12ConfidenceRegionLowRankRegre', '2RegressionModelingStrategies', 0.54], ['12ConfidenceRegionLowRankRegre', '3RegressionModelingStrategies', 0.82], ['13PRCA', '3RegressionModelingStrategies', 0.89], ['12ConfidenceRegionLowRankRegre', '4RegressionModelingStrategies', 0.82], ['13PRCA', '4RegressionModelingStrategies', 0.78], ['12ConfidenceRegionLowRankRegre', '5RegressionModelingStrategies', 0.55], ['13PRCA', '5RegressionModelingStrategies', 0.48], ['12ConfidenceRegionLowRankRegre', '8RegressionModelingStrategies', 0.84], ['13PRCA', '8RegressionModelingStrategies', 0.81], ['12ConfidenceRegionLowRankRegre', '11RegressionModelingStrategies', 0.63], ['13PRCA', '11RegressionModelingStrategies', 0.61], ['12ConfidenceRegionLowRankRegre', '15RegressionModelingStrategies', 0.56], ['12ConfidenceRegionLowRankRegre', '16RegressionModelingStrategies', 0.66], ['13PRCA', '2ComputationalStatistics', 0.5], ['12ConfidenceRegionLowRankRegre', '12ComputationalStatistics', 0.49], ['12ConfidenceRegionLowRankRegre', '1RossProbability', 0.53], ['12ConfidenceRegionLowRankRegre', '2RossProbability', 1.22], ['13PRCA', '2RossProbability', 1.1], ['12ConfidenceRegionLowRankRegre', '3RossProbability', 1.13], ['13PRCA', '3RossProbability', 1.58], ['12ConfidenceRegionLowRankRegre', '4RossProbability', 0.9], ['13PRCA', '4RossProbability', 0.97], ['12ConfidenceRegionLowRankRegre', '5RossProbability', 0.7], ['13PRCA', '5RossProbability', 0.69], ['12ConfidenceRegionLowRankRegre', '6RossProbability', 0.53], ['13PRCA', '6RossProbability', 0.82], ['12ConfidenceRegionLowRankRegre', '7RossProbability', 0.76], ['13PRCA', '7RossProbability', 0.95], ['12ConfidenceRegionLowRankRegre', '8RossProbability', 0.8], ['13PRCA', '8RossProbability', 0.91], ['12ConfidenceRegionLowRankRegre', '9RossProbability', 0.85], ['13PRCA', '9RossProbability', 0.89], ['12ConfidenceRegionLowRankRegre', '10RossProbability', 0.61], ['13PRCA', '10RossProbability', 0.64], ['13PRCA', '2CategoricalDataAnalysis', 0.58], ['13PRCA', '2DeepLearning', 0.94], ['12ConfidenceRegionLowRankRegre', '3DeepLearning', 0.58], ['13PRCA', '3DeepLearning', 0.75], ['13PRCA', '4DeepLearning', 0.7], ['13PRCA', '8DeepLearning', 0.58], ['13PRCA', '13DeepLearning', 0.5], ['13PRCA', '16DeepLearning', 0.61], ['13PRCA', '11L2RM', 0.53], ['8StatisticalModels', '12ConfidenceRegionLowRankRegre', 0.52], ['9StatisticalModels', '12ConfidenceRegionLowRankRegre', 0.62], ['8RegressionModelingStrategies', '12ConfidenceRegionLowRankRegre', 0.81], ['13PRCA', '12ConfidenceRegionLowRankRegre', 0.59], ['8ConvexOptimizationbook', '13PRCA', 0.54], ['8RegressionModelingStrategies', '13PRCA', 0.62], ['12RegressionModelingStrategies', '13PRCA', 0.53], ['4DeepLearning', '13PRCA', 0.6], ['11DeepLearning', '13PRCA', 0.5]]\n"
     ]
    }
   ],
   "source": [
    "print(len(weight_edge_list))\n",
    "print(len(name_edge_list))\n",
    "print(name_edge_list)"
   ]
  },
  {
   "cell_type": "code",
   "execution_count": 38,
   "metadata": {},
   "outputs": [
    {
     "data": {
      "text/plain": [
       "(153, 153)"
      ]
     },
     "execution_count": 38,
     "metadata": {},
     "output_type": "execute_result"
    }
   ],
   "source": [
    "whole_F.shape"
   ]
  },
  {
   "cell_type": "code",
   "execution_count": 42,
   "metadata": {},
   "outputs": [
    {
     "data": {
      "text/plain": [
       "117.045"
      ]
     },
     "execution_count": 42,
     "metadata": {},
     "output_type": "execute_result"
    }
   ],
   "source": [
    "153*153*0.005"
   ]
  },
  {
   "cell_type": "code",
   "execution_count": 67,
   "metadata": {},
   "outputs": [
    {
     "data": {
      "text/plain": [
       "['1StatisticalModels',\n",
       " '2StatisticalModels',\n",
       " '3StatisticalModels',\n",
       " '4StatisticalModels',\n",
       " '5StatisticalModels',\n",
       " '6StatisticalModels',\n",
       " '7StatisticalModels',\n",
       " '8StatisticalModels',\n",
       " '9StatisticalModels',\n",
       " '10StatisticalModels',\n",
       " '11StatisticalModels',\n",
       " '12StatisticalModels',\n",
       " '1StochasticProcesses',\n",
       " '2StochasticProcesses',\n",
       " '3StochasticProcesses',\n",
       " '4StochasticProcesses',\n",
       " '5StochasticProcesses',\n",
       " '6StochasticProcesses',\n",
       " '7StochasticProcesses',\n",
       " '8StochasticProcesses',\n",
       " '9StochasticProcesses',\n",
       " '10StochasticProcesses',\n",
       " '11StochasticProcesses',\n",
       " '12StochasticProcesses',\n",
       " '13StochasticProcesses',\n",
       " '14StochasticProcesses',\n",
       " '15StochasticProcesses',\n",
       " '16StochasticProcesses',\n",
       " '17StochasticProcesses',\n",
       " '18StochasticProcesses',\n",
       " '19StochasticProcesses',\n",
       " '20StochasticProcesses',\n",
       " '21StochasticProcesses',\n",
       " '22StochasticProcesses',\n",
       " '23StochasticProcesses',\n",
       " '24StochasticProcesses',\n",
       " '25StochasticProcesses',\n",
       " '26StochasticProcesses',\n",
       " '27StochasticProcesses',\n",
       " '28StochasticProcesses',\n",
       " '29StochasticProcesses',\n",
       " '30StochasticProcesses',\n",
       " '31StochasticProcesses',\n",
       " '32StochasticProcesses',\n",
       " '33StochasticProcesses',\n",
       " '34StochasticProcesses',\n",
       " '35StochasticProcesses',\n",
       " '36StochasticProcesses',\n",
       " '37StochasticProcesses',\n",
       " '38StochasticProcesses',\n",
       " '39StochasticProcesses',\n",
       " '40StochasticProcesses',\n",
       " '41StochasticProcesses',\n",
       " '42StochasticProcesses',\n",
       " '1ReinforcementLearning',\n",
       " '2ReinforcementLearning',\n",
       " '3ReinforcementLearning',\n",
       " '4ReinforcementLearning',\n",
       " '5ReinforcementLearning',\n",
       " '6ReinforcementLearning',\n",
       " '1ConvexOptimizationbook',\n",
       " '2ConvexOptimizationbook',\n",
       " '3ConvexOptimizationbook',\n",
       " '4ConvexOptimizationbook',\n",
       " '5ConvexOptimizationbook',\n",
       " '6ConvexOptimizationbook',\n",
       " '7ConvexOptimizationbook',\n",
       " '8ConvexOptimizationbook',\n",
       " '9ConvexOptimizationbook',\n",
       " '10ConvexOptimizationbook',\n",
       " '11ConvexOptimizationbook',\n",
       " '1RegressionModelingStrategies',\n",
       " '2RegressionModelingStrategies',\n",
       " '3RegressionModelingStrategies',\n",
       " '4RegressionModelingStrategies',\n",
       " '5RegressionModelingStrategies',\n",
       " '6RegressionModelingStrategies',\n",
       " '7RegressionModelingStrategies',\n",
       " '8RegressionModelingStrategies',\n",
       " '9RegressionModelingStrategies',\n",
       " '10RegressionModelingStrategies',\n",
       " '11RegressionModelingStrategies',\n",
       " '12RegressionModelingStrategies',\n",
       " '13RegressionModelingStrategies',\n",
       " '14RegressionModelingStrategies',\n",
       " '15RegressionModelingStrategies',\n",
       " '16RegressionModelingStrategies',\n",
       " '17RegressionModelingStrategies',\n",
       " '18RegressionModelingStrategies',\n",
       " '19RegressionModelingStrategies',\n",
       " '20RegressionModelingStrategies',\n",
       " '21RegressionModelingStrategies',\n",
       " '1ComputationalStatistics',\n",
       " '2ComputationalStatistics',\n",
       " '3ComputationalStatistics',\n",
       " '4ComputationalStatistics',\n",
       " '5ComputationalStatistics',\n",
       " '6ComputationalStatistics',\n",
       " '7ComputationalStatistics',\n",
       " '8ComputationalStatistics',\n",
       " '9ComputationalStatistics',\n",
       " '10ComputationalStatistics',\n",
       " '11ComputationalStatistics',\n",
       " '12ComputationalStatistics',\n",
       " '1RossProbability',\n",
       " '2RossProbability',\n",
       " '3RossProbability',\n",
       " '4RossProbability',\n",
       " '5RossProbability',\n",
       " '6RossProbability',\n",
       " '7RossProbability',\n",
       " '8RossProbability',\n",
       " '9RossProbability',\n",
       " '10RossProbability',\n",
       " '1CategoricalDataAnalysis',\n",
       " '2CategoricalDataAnalysis',\n",
       " '3CategoricalDataAnalysis',\n",
       " '4CategoricalDataAnalysis',\n",
       " '5CategoricalDataAnalysis',\n",
       " '6CategoricalDataAnalysis',\n",
       " '7CategoricalDataAnalysis',\n",
       " '8CategoricalDataAnalysis',\n",
       " '9CategoricalDataAnalysis',\n",
       " '10CategoricalDataAnalysis',\n",
       " '11CategoricalDataAnalysis',\n",
       " '12CategoricalDataAnalysis',\n",
       " '13CategoricalDataAnalysis',\n",
       " '14CategoricalDataAnalysis',\n",
       " '15CategoricalDataAnalysis',\n",
       " '16CategoricalDataAnalysis',\n",
       " '1DeepLearning',\n",
       " '2DeepLearning',\n",
       " '3DeepLearning',\n",
       " '4DeepLearning',\n",
       " '5DeepLearning',\n",
       " '6DeepLearning',\n",
       " '7DeepLearning',\n",
       " '8DeepLearning',\n",
       " '9DeepLearning',\n",
       " '10DeepLearning',\n",
       " '11DeepLearning',\n",
       " '12DeepLearning',\n",
       " '13DeepLearning',\n",
       " '14DeepLearning',\n",
       " '15DeepLearning',\n",
       " '16DeepLearning',\n",
       " '17DeepLearning',\n",
       " '18DeepLearning',\n",
       " '19DeepLearning',\n",
       " '20DeepLearning',\n",
       " '11L2RM',\n",
       " '12ConfidenceRegionLowRankRegre',\n",
       " '13PRCA']"
      ]
     },
     "execution_count": 67,
     "metadata": {},
     "output_type": "execute_result"
    }
   ],
   "source": [
    "chp_ids"
   ]
  },
  {
   "cell_type": "code",
   "execution_count": 26,
   "metadata": {},
   "outputs": [],
   "source": [
    "from evaluation import get_concept_pairs\n",
    "top_n_pairs = get_concept_pairs(incre_A, concept, n=100)"
   ]
  },
  {
   "cell_type": "code",
   "execution_count": 27,
   "metadata": {
    "scrolled": true
   },
   "outputs": [
    {
     "name": "stdout",
     "output_type": "stream",
     "text": [
      "probability,old\n",
      "poisson,old\n",
      "projection,new\n",
      "conditional,old\n",
      "newton,old\n",
      "constraint,old\n",
      "principal component,new\n",
      "principal component pursuit,new\n",
      "linear,old\n",
      "convergence,old\n",
      "random variable,old\n",
      "matrix regression,new\n",
      "normal,old\n",
      "brownian motion,old\n",
      "predictable,old\n",
      "matrix completion,new\n",
      "bounded,old\n",
      "sample,old\n",
      "likelihood,old\n",
      "singular subspace,new\n",
      "variable,old\n",
      "confidence region,new\n",
      "distribution,old\n",
      "gradient,old\n",
      "policy,old\n",
      "debiasing,new\n",
      "independent,old\n",
      "martingale problem,old\n",
      "stopping time,old\n",
      "matrix,old\n",
      "odds,old\n",
      "imaging genetics,new\n",
      "filtration,old\n",
      "mean,old\n",
      "poisson process,old\n",
      "predictor,old\n",
      "variance,old\n",
      "markov process,old\n",
      "martingale,old\n",
      "singular value thresholding,new\n",
      "continuous,old\n",
      "characteristic function,old\n",
      "parameter,old\n",
      "regression,old\n"
     ]
    }
   ],
   "source": [
    "top_concepts = set()\n",
    "for i in top_n_pairs:\n",
    "    top_concepts = top_concepts |set([i[0],i[1]])\n",
    "for i in top_concepts:\n",
    "    if concept.index(i) < len(concept) - 18:\n",
    "        print('{},old'.format(i))\n",
    "    else:\n",
    "        print('{},new'.format(i))"
   ]
  },
  {
   "cell_type": "code",
   "execution_count": 28,
   "metadata": {},
   "outputs": [
    {
     "data": {
      "text/plain": [
       "[['variable', 'principal component', 100.0884],\n",
       " ['variable', 'projection', 90.9447],\n",
       " ['variable', 'matrix completion', 75.171],\n",
       " ['variable', 'singular subspace', 74.2375],\n",
       " ['probability', 'projection', 72.8616],\n",
       " ['probability', 'principal component', 70.2482],\n",
       " ['probability', 'singular subspace', 62.7074],\n",
       " ['variable', 'confidence region', 56.4205],\n",
       " ['variable', 'matrix regression', 51.3934],\n",
       " ['probability', 'matrix completion', 48.3939],\n",
       " ['probability', 'confidence region', 47.6576],\n",
       " ['distribution', 'principal component', 47.6517],\n",
       " ['variable', 'imaging genetics', 47.2781],\n",
       " ['distribution', 'projection', 43.3581],\n",
       " ['probability', 'matrix regression', 42.9986],\n",
       " ['likelihood', 'principal component', 42.1051],\n",
       " ['probability', 'imaging genetics', 38.6972],\n",
       " ['variable', 'principal component pursuit', 37.4073],\n",
       " ['parameter', 'principal component', 37.2675],\n",
       " ['conditional', 'continuous', 36.789],\n",
       " ['variable', 'singular value thresholding', 35.9196],\n",
       " ['likelihood', 'matrix completion', 35.2095],\n",
       " ['linear', 'singular subspace', 35.0328],\n",
       " ['likelihood', 'projection', 35.0224],\n",
       " ['distribution', 'matrix completion', 34.8274],\n",
       " ['random variable', 'principal component', 34.0076],\n",
       " ['parameter', 'projection', 33.5662],\n",
       " ['distribution', 'singular subspace', 33.295],\n",
       " ['random variable', 'projection', 33.0736],\n",
       " ['linear', 'projection', 32.6391],\n",
       " ['linear', 'principal component', 32.1232],\n",
       " ['likelihood', 'singular subspace', 32.0268],\n",
       " ['sample', 'principal component', 29.7634],\n",
       " ['parameter', 'singular subspace', 29.6739],\n",
       " ['markov process', 'linear', 29.5621],\n",
       " ['matrix', 'principal component', 29.4698],\n",
       " ['probability', 'normal', 29.35],\n",
       " ['parameter', 'matrix completion', 29.1803],\n",
       " ['newton', 'principal component', 28.9407],\n",
       " ['variable', 'odds', 28.7695],\n",
       " ['continuous', 'markov process', 28.5907],\n",
       " ['conditional', 'bounded', 28.5634],\n",
       " ['probability', 'singular value thresholding', 28.4274],\n",
       " ['continuous', 'martingale problem', 28.3782],\n",
       " ['mean', 'principal component', 28.1769],\n",
       " ['independent', 'projection', 27.812],\n",
       " ['regression', 'singular subspace', 27.6705],\n",
       " ['mean', 'projection', 27.4975],\n",
       " ['bounded', 'martingale problem', 27.2015],\n",
       " ['predictor', 'predictor', 27.1554],\n",
       " ['independent', 'principal component', 27.1376],\n",
       " ['distribution', 'variance', 26.9416],\n",
       " ['probability', 'poisson process', 26.893],\n",
       " ['linear', 'confidence region', 26.6249],\n",
       " ['probability', 'filtration', 26.542],\n",
       " ['newton', 'matrix completion', 26.2155],\n",
       " ['sample', 'projection', 25.9311],\n",
       " ['matrix', 'singular subspace', 25.864],\n",
       " ['brownian motion', 'bounded', 25.8194],\n",
       " ['matrix', 'matrix completion', 25.7401],\n",
       " ['linear', 'matrix completion', 25.6063],\n",
       " ['predictor', 'regression', 25.5165],\n",
       " ['filtration', 'stopping time', 25.4899],\n",
       " ['distribution', 'confidence region', 25.3042],\n",
       " ['brownian motion', 'characteristic function', 25.1799],\n",
       " ['distribution', 'predictor', 24.9647],\n",
       " ['martingale', 'markov process', 24.9522],\n",
       " ['predictor', 'singular subspace', 24.9369],\n",
       " ['matrix', 'projection', 24.9331],\n",
       " ['constraint', 'principal component', 24.8318],\n",
       " ['regression', 'predictor', 24.7584],\n",
       " ['variance', 'principal component', 24.494],\n",
       " ['likelihood', 'confidence region', 24.3404],\n",
       " ['regression', 'projection', 24.2471],\n",
       " ['predictor', 'principal component', 24.1275],\n",
       " ['normal', 'principal component', 24.0613],\n",
       " ['distribution', 'matrix regression', 23.8893],\n",
       " ['constraint', 'projection', 23.8589],\n",
       " ['variable', 'debiasing', 23.756],\n",
       " ['variable', 'variable', 23.7389],\n",
       " ['distribution', 'imaging genetics', 23.7231],\n",
       " ['conditional', 'brownian motion', 23.562],\n",
       " ['continuous', 'poisson', 23.4931],\n",
       " ['conditional', 'principal component', 23.4482],\n",
       " ['filtration', 'predictable', 23.3473],\n",
       " ['probability', 'gradient', 23.3419],\n",
       " ['sample', 'matrix completion', 23.256],\n",
       " ['constraint', 'singular subspace', 23.1609],\n",
       " ['conditional', 'projection', 23.0509],\n",
       " ['mean', 'singular subspace', 23.0105],\n",
       " ['predictor', 'projection', 22.7564],\n",
       " ['regression', 'principal component', 22.7399],\n",
       " ['independent', 'singular subspace', 22.7064],\n",
       " ['random variable', 'imaging genetics', 22.6875],\n",
       " ['parameter', 'confidence region', 22.5522],\n",
       " ['regression', 'regression', 22.4589],\n",
       " ['probability', 'principal component pursuit', 22.3486],\n",
       " ['brownian motion', 'martingale problem', 22.2426],\n",
       " ['convergence', 'policy', 21.8245],\n",
       " ['sample', 'singular subspace', 21.5966]]"
      ]
     },
     "execution_count": 28,
     "metadata": {},
     "output_type": "execute_result"
    }
   ],
   "source": [
    "top_n_pairs"
   ]
  },
  {
   "cell_type": "code",
   "execution_count": null,
   "metadata": {},
   "outputs": [],
   "source": []
  }
 ],
 "metadata": {
  "kernelspec": {
   "display_name": "Python 3",
   "language": "python",
   "name": "python3"
  },
  "language_info": {
   "codemirror_mode": {
    "name": "ipython",
    "version": 3
   },
   "file_extension": ".py",
   "mimetype": "text/x-python",
   "name": "python",
   "nbconvert_exporter": "python",
   "pygments_lexer": "ipython3",
   "version": "3.7.2"
  }
 },
 "nbformat": 4,
 "nbformat_minor": 2
}
